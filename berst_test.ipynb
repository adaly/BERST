{
 "cells": [
  {
   "cell_type": "code",
   "execution_count": 1,
   "id": "98f0348d-7465-47bd-94be-ce3c6e3d621b",
   "metadata": {},
   "outputs": [
    {
     "name": "stderr",
     "output_type": "stream",
     "text": [
      "/home/x_aidda/.conda/envs/berst/lib/python3.13/site-packages/dask/dataframe/__init__.py:31: FutureWarning: The legacy Dask DataFrame implementation is deprecated and will be removed in a future version. Set the configuration option `dataframe.query-planning` to `True` or None to enable the new Dask Dataframe implementation and silence this warning.\n",
      "  warnings.warn(\n",
      "/home/x_aidda/.conda/envs/berst/lib/python3.13/site-packages/xarray_schema/__init__.py:1: UserWarning: pkg_resources is deprecated as an API. See https://setuptools.pypa.io/en/latest/pkg_resources.html. The pkg_resources package is slated for removal as early as 2025-11-30. Refrain from using this package or pin to Setuptools<81.\n",
      "  from pkg_resources import DistributionNotFound, get_distribution\n",
      "/home/x_aidda/.conda/envs/berst/lib/python3.13/site-packages/spatialdata/_core/query/relational_query.py:504: FutureWarning: functools.partial will be a method descriptor in future Python versions; wrap it in enum.member() if you want to preserve the old behavior\n",
      "  left = partial(_left_join_spatialelement_table)\n",
      "/home/x_aidda/.conda/envs/berst/lib/python3.13/site-packages/spatialdata/_core/query/relational_query.py:505: FutureWarning: functools.partial will be a method descriptor in future Python versions; wrap it in enum.member() if you want to preserve the old behavior\n",
      "  left_exclusive = partial(_left_exclusive_join_spatialelement_table)\n",
      "/home/x_aidda/.conda/envs/berst/lib/python3.13/site-packages/spatialdata/_core/query/relational_query.py:506: FutureWarning: functools.partial will be a method descriptor in future Python versions; wrap it in enum.member() if you want to preserve the old behavior\n",
      "  inner = partial(_inner_join_spatialelement_table)\n",
      "/home/x_aidda/.conda/envs/berst/lib/python3.13/site-packages/spatialdata/_core/query/relational_query.py:507: FutureWarning: functools.partial will be a method descriptor in future Python versions; wrap it in enum.member() if you want to preserve the old behavior\n",
      "  right = partial(_right_join_spatialelement_table)\n",
      "/home/x_aidda/.conda/envs/berst/lib/python3.13/site-packages/spatialdata/_core/query/relational_query.py:508: FutureWarning: functools.partial will be a method descriptor in future Python versions; wrap it in enum.member() if you want to preserve the old behavior\n",
      "  right_exclusive = partial(_right_exclusive_join_spatialelement_table)\n",
      "/home/x_aidda/.conda/envs/berst/lib/python3.13/site-packages/numba/core/decorators.py:246: RuntimeWarning: nopython is set for njit and is ignored\n",
      "  warnings.warn('nopython is set for njit and is ignored', RuntimeWarning)\n",
      "/home/x_aidda/.conda/envs/berst/lib/python3.13/site-packages/anndata/__init__.py:44: FutureWarning: Importing read_text from `anndata` is deprecated. Import anndata.io.read_text instead.\n",
      "  return module_get_attr_redirect(attr_name, deprecated_mapping=_DEPRECATED)\n"
     ]
    }
   ],
   "source": [
    "import os\n",
    "import torch\n",
    "import pandas as pd\n",
    "import scanpy as sc\n",
    "from preprocess import preprocess_scbert\n",
    "from graph_datasets import visium_anndata_to_graphdataset, GraphDataset"
   ]
  },
  {
   "cell_type": "code",
   "execution_count": 2,
   "id": "58ef0356-52f5-41c5-97ab-fd098454e92f",
   "metadata": {},
   "outputs": [],
   "source": [
    "data_dir = '/proj/berzelius-2024-407/data/human_ba46'"
   ]
  },
  {
   "cell_type": "markdown",
   "id": "08b1aef8-2ed4-49f3-a232-82fc516793d0",
   "metadata": {},
   "source": [
    "### Create test dataset of 3 Visium arrays"
   ]
  },
  {
   "cell_type": "code",
   "execution_count": 3,
   "id": "bffe17fe-664e-47be-8e26-ca091892aeeb",
   "metadata": {},
   "outputs": [
    {
     "data": {
      "text/plain": [
       "\"\\nadata = sc.read_h5ad(os.path.join(data_dir, 'adata_ba46_counts_scbert.h5ad'))\\nsel_arrs = adata.obs.array_name.unique()[:3]\\nadata = adata[adata.obs.array_name.isin(sel_arrs)]\\nadata.var_names_make_unique()\\n\""
      ]
     },
     "execution_count": 3,
     "metadata": {},
     "output_type": "execute_result"
    }
   ],
   "source": [
    "'''\n",
    "adata = sc.read_h5ad(os.path.join(data_dir, 'adata_ba46_counts_scbert.h5ad'))\n",
    "sel_arrs = adata.obs.array_name.unique()[:3]\n",
    "adata = adata[adata.obs.array_name.isin(sel_arrs)]\n",
    "adata.var_names_make_unique()\n",
    "'''"
   ]
  },
  {
   "cell_type": "code",
   "execution_count": 4,
   "id": "54f9c434-7244-4673-84ca-67c8f6d0ea56",
   "metadata": {},
   "outputs": [
    {
     "data": {
      "text/plain": [
       "\"\\ntarget_genes = 'data/gene2vec_names.csv'\\n\\nadata = preprocess_scbert(adata, target_genes=target_genes)\\n\""
      ]
     },
     "execution_count": 4,
     "metadata": {},
     "output_type": "execute_result"
    }
   ],
   "source": [
    "'''\n",
    "target_genes = 'data/gene2vec_names.csv'\n",
    "\n",
    "adata = preprocess_scbert(adata, target_genes=target_genes)\n",
    "'''"
   ]
  },
  {
   "cell_type": "code",
   "execution_count": 5,
   "id": "b97ebdc5-1247-4238-b32d-c97f92fa6292",
   "metadata": {},
   "outputs": [],
   "source": [
    "#adata.write(os.path.join(data_dir, 'adata_test.h5ad'))"
   ]
  },
  {
   "cell_type": "markdown",
   "id": "79ce61c4-f9c7-4e8f-8957-7e6abc5c11b8",
   "metadata": {},
   "source": [
    "### Load into PyG dataset"
   ]
  },
  {
   "cell_type": "code",
   "execution_count": 6,
   "id": "1e53890c-8eff-4040-a28c-c389e759265f",
   "metadata": {},
   "outputs": [
    {
     "data": {
      "text/plain": [
       "AnnData object with n_obs × n_vars = 9734 × 16906\n",
       "    obs: 'diagnosis', 'phenotype', 'individual', 'aar', 'cell_type', 'array_name', 'x_arr', 'y_arr'\n",
       "    uns: 'log1p'"
      ]
     },
     "execution_count": 6,
     "metadata": {},
     "output_type": "execute_result"
    }
   ],
   "source": [
    "adata = sc.read_h5ad(os.path.join(data_dir, 'adata_test.h5ad'))\n",
    "adata"
   ]
  },
  {
   "cell_type": "code",
   "execution_count": 7,
   "id": "f9aa666e-fbf1-4229-86fb-853662e2f754",
   "metadata": {},
   "outputs": [],
   "source": [
    "graph_list, graph_names = visium_anndata_to_graphdataset(adata, \n",
    "                                                         annot_col='aar', batch_col='array_name',\n",
    "                                                         x_col='x_arr', y_col='y_arr', \n",
    "                                                         pseudo_hex=True)\n",
    "\n",
    "gdat = GraphDataset(graph_list)"
   ]
  },
  {
   "cell_type": "code",
   "execution_count": 8,
   "id": "9fc2f691-5b80-452c-bbbd-78b6a910fe25",
   "metadata": {},
   "outputs": [
    {
     "data": {
      "text/plain": [
       "Data(x=[3538, 16906], edge_index=[2, 20444], edge_attr=[20444, 1], y=[3538], pos=[3538, 2])"
      ]
     },
     "execution_count": 8,
     "metadata": {},
     "output_type": "execute_result"
    }
   ],
   "source": [
    "gdat[0]"
   ]
  },
  {
   "cell_type": "markdown",
   "id": "0e4b1565-9044-4354-8686-968b86ee4764",
   "metadata": {},
   "source": [
    "### Instantiate graph-based cross-attention model"
   ]
  },
  {
   "cell_type": "code",
   "execution_count": 9,
   "id": "18de511e-74f8-499c-87f8-8598390bda9b",
   "metadata": {},
   "outputs": [],
   "source": [
    "from graph_attention import GraphPerformerLM"
   ]
  },
  {
   "cell_type": "code",
   "execution_count": 10,
   "id": "6ecf4a80-be3b-48f2-9c46-7d485c033e89",
   "metadata": {},
   "outputs": [],
   "source": [
    "# scBERT encoding parameters\n",
    "n_genes = 16906  # number of genes in gene2vec model\n",
    "bin_num = 5  # discrete bins for transcriptomic data (excl. \"zero\" and \"mask\")\n",
    "dim = 200    # dimension of token embeddings (e.g., gene2vec)\n",
    "depth = 6    # number of attention layers\n",
    "heads = 10   # number of attention heads per layer"
   ]
  },
  {
   "cell_type": "code",
   "execution_count": 11,
   "id": "76be6218-c900-4018-b0c3-3208bd10fe53",
   "metadata": {},
   "outputs": [],
   "source": [
    "class BERST(GraphPerformerLM):\n",
    "    def __init__(\n",
    "        self, \n",
    "        n_genes=16906,\n",
    "        bin_num=5,\n",
    "        dim=200,\n",
    "        depth=6,\n",
    "        heads=10,\n",
    "        dim_head=64,\n",
    "        g2v_position_emb=True\n",
    "    ):\n",
    "        super(BERST, self).__init__(num_tokens=bin_num+2, max_seq_len=n_genes+1, \n",
    "                                    dim=dim, depth=depth, heads=heads, dim_head=dim_head, \n",
    "                                    g2v_position_emb=g2v_position_emb)\n",
    "        self.bin_num = bin_num\n",
    "\n",
    "    def forward(self, x, edge_index, return_encodings=False, output_attentions=False, **kwargs):\n",
    "        x[x > self.bin_num] = self.bin_num\n",
    "        x = x.long()\n",
    "        new_feat = torch.zeros((x.shape[0],1), dtype=torch.long)\n",
    "        x = torch.cat((x, new_feat), dim=-1)\n",
    "        \n",
    "        return super(BERST, self).forward(x, edge_index, \n",
    "                                          return_encodings=return_encodings,\n",
    "                                          output_attentions=output_attentions,\n",
    "                                          **kwargs)\n",
    "\n",
    "berst = BERST()"
   ]
  },
  {
   "cell_type": "code",
   "execution_count": 12,
   "id": "58c29757-fd45-42a4-99d7-a86838a5b30a",
   "metadata": {},
   "outputs": [
    {
     "name": "stdout",
     "output_type": "stream",
     "text": [
      "tensor([[0.0000, 0.0000, 0.0000,  ..., 0.0000, 1.1897, 0.0000],\n",
      "        [0.0000, 0.0000, 0.0000,  ..., 0.0000, 0.0000, 0.0000],\n",
      "        [0.0000, 0.0000, 0.0000,  ..., 0.0000, 0.0000, 1.8032],\n",
      "        ...,\n",
      "        [0.0000, 0.0000, 0.0000,  ..., 0.0000, 0.0000, 0.0000],\n",
      "        [0.0000, 0.0000, 0.0000,  ..., 0.0000, 0.0000, 0.0000],\n",
      "        [0.0000, 0.0000, 0.0000,  ..., 0.0000, 1.3946, 1.3946]])\n",
      "tensor([[0, 0, 0, 0, 0, 0, 1, 1, 1, 2, 2, 2, 3, 3, 3, 4, 4, 4, 5, 5, 5, 6, 6, 6],\n",
      "        [1, 2, 3, 4, 5, 6, 0, 4, 5, 0, 3, 5, 0, 2, 6, 0, 1, 6, 0, 1, 2, 0, 3, 4]])\n"
     ]
    }
   ],
   "source": [
    "# Running the full Visium array through the model exhausts memory quickly!\n",
    "#berst(gdat[0].x, gdat[0].edge_index)\n",
    "\n",
    "# Instead, let's create a small (k-hop) sub-graph and see how that goes:\n",
    "from torch_geometric.utils import k_hop_subgraph\n",
    "\n",
    "subset, edge_index, mapping, edge_mask = k_hop_subgraph(0, 1, gdat[0].edge_index, relabel_nodes=True)\n",
    "\n",
    "g = gdat[0]\n",
    "print(g.x[subset])\n",
    "print(edge_index)"
   ]
  },
  {
   "cell_type": "code",
   "execution_count": 13,
   "id": "fd7047bd-f926-4d81-a224-16b0c5ee794e",
   "metadata": {},
   "outputs": [
    {
     "name": "stdout",
     "output_type": "stream",
     "text": [
      "GraphPerformer\n",
      "(tensor([[0, 0, 0, 0, 0, 0, 1, 1, 1, 2, 2, 2, 3, 3, 3, 4, 4, 4, 5, 5, 5, 6, 6, 6],\n",
      "        [1, 2, 3, 4, 5, 6, 0, 4, 5, 0, 3, 5, 0, 2, 6, 0, 1, 6, 0, 1, 2, 0, 3, 4]]),)\n",
      "{'pos_emb': None}\n",
      "SequentialSequence\n",
      "(tensor([[0, 0, 0, 0, 0, 0, 1, 1, 1, 2, 2, 2, 3, 3, 3, 4, 4, 4, 5, 5, 5, 6, 6, 6],\n",
      "        [1, 2, 3, 4, 5, 6, 0, 4, 5, 0, 3, 5, 0, 2, 6, 0, 1, 6, 0, 1, 2, 0, 3, 4]]),)\n",
      "{'pos_emb': None}\n"
     ]
    },
    {
     "data": {
      "text/plain": [
       "tensor([[[-0.6378,  0.1029, -0.4765,  ..., -1.2899, -0.5108, -0.3404],\n",
       "         [-0.4916,  0.0834, -0.5365,  ..., -1.2764, -0.4062, -0.3476],\n",
       "         [-0.5212,  0.1320, -0.4535,  ..., -1.1853, -0.4875, -0.2458],\n",
       "         ...,\n",
       "         [-0.7137,  0.3805,  0.1309,  ..., -0.6904,  0.6976, -0.6426],\n",
       "         [-0.5408,  0.0324, -0.3774,  ..., -1.2139, -0.4519, -0.4303],\n",
       "         [-0.5623,  0.1184, -0.4049,  ..., -1.3034, -0.4487, -0.3094]],\n",
       "\n",
       "        [[-0.7157,  0.2403, -0.3214,  ..., -1.1994, -0.4828, -0.2815],\n",
       "         [-0.5715,  0.2193, -0.3871,  ..., -1.1782, -0.3803, -0.2908],\n",
       "         [-0.6044,  0.2774, -0.3026,  ..., -1.0923, -0.4700, -0.1829],\n",
       "         ...,\n",
       "         [-0.5484,  0.2660, -0.2722,  ..., -1.1948, -0.3292, -0.3553],\n",
       "         [-0.6260,  0.1722, -0.2172,  ..., -1.1226, -0.4159, -0.3573],\n",
       "         [-0.6414,  0.2552, -0.2520,  ..., -1.2098, -0.4196, -0.2480]],\n",
       "\n",
       "        [[-0.6913,  0.1543, -0.4241,  ..., -1.2356, -0.5080, -0.3206],\n",
       "         [-0.5435,  0.1350, -0.4849,  ..., -1.2218, -0.4045, -0.3286],\n",
       "         [-0.5730,  0.1879, -0.3994,  ..., -1.1301, -0.4884, -0.2255],\n",
       "         ...,\n",
       "         [-0.5190,  0.1861, -0.3680,  ..., -1.2305, -0.3516, -0.3994],\n",
       "         [-0.8964,  0.3230,  0.2624,  ..., -0.5719,  0.5910, -0.6484],\n",
       "         [-0.6130,  0.1717, -0.3510,  ..., -1.2496, -0.4441, -0.2885]],\n",
       "\n",
       "        ...,\n",
       "\n",
       "        [[-0.7333,  0.2120, -0.3585,  ..., -1.1779, -0.5202, -0.2853],\n",
       "         [-0.5869,  0.1940, -0.4227,  ..., -1.1584, -0.4196, -0.2938],\n",
       "         [-0.6162,  0.2494, -0.3319,  ..., -1.0737, -0.5073, -0.1879],\n",
       "         ...,\n",
       "         [-0.5595,  0.2397, -0.3022,  ..., -1.1785, -0.3642, -0.3615],\n",
       "         [-0.6352,  0.1523, -0.2550,  ..., -1.1051, -0.4585, -0.3646],\n",
       "         [-0.6549,  0.2310, -0.2877,  ..., -1.1891, -0.4563, -0.2524]],\n",
       "\n",
       "        [[-0.6782,  0.1491, -0.4372,  ..., -1.2538, -0.5038, -0.3275],\n",
       "         [-0.5310,  0.1292, -0.4982,  ..., -1.2399, -0.3998, -0.3355],\n",
       "         [-0.5608,  0.1815, -0.4141,  ..., -1.1478, -0.4834, -0.2322],\n",
       "         ...,\n",
       "         [-0.5074,  0.1811, -0.3821,  ..., -1.2465, -0.3488, -0.4062],\n",
       "         [-0.5816,  0.0818, -0.3342,  ..., -1.1770, -0.4420, -0.4146],\n",
       "         [-0.6008,  0.1654, -0.3646,  ..., -1.2672, -0.4408, -0.2955]],\n",
       "\n",
       "        [[-0.6547,  0.1427, -0.4227,  ..., -1.2715, -0.4971, -0.3201],\n",
       "         [-0.5094,  0.1225, -0.4844,  ..., -1.2559, -0.3931, -0.3280],\n",
       "         [-0.5406,  0.1748, -0.4015,  ..., -1.1661, -0.4775, -0.2245],\n",
       "         ...,\n",
       "         [-0.7140,  0.4144,  0.1922,  ..., -0.6926,  0.7256, -0.6181],\n",
       "         [-0.8634,  0.3114,  0.2549,  ..., -0.6045,  0.6030, -0.6470],\n",
       "         [-0.5798,  0.1578, -0.3512,  ..., -1.2839, -0.4346, -0.2885]]],\n",
       "       grad_fn=<ViewBackward0>)"
      ]
     },
     "execution_count": 13,
     "metadata": {},
     "output_type": "execute_result"
    }
   ],
   "source": [
    "berst(g.x[subset], edge_index)"
   ]
  },
  {
   "cell_type": "code",
   "execution_count": null,
   "id": "b3c1ebd5-2ddf-43ca-b7df-b6b54c14a9af",
   "metadata": {},
   "outputs": [],
   "source": []
  }
 ],
 "metadata": {
  "kernelspec": {
   "display_name": "berst",
   "language": "python",
   "name": "berst"
  },
  "language_info": {
   "codemirror_mode": {
    "name": "ipython",
    "version": 3
   },
   "file_extension": ".py",
   "mimetype": "text/x-python",
   "name": "python",
   "nbconvert_exporter": "python",
   "pygments_lexer": "ipython3",
   "version": "3.13.5"
  }
 },
 "nbformat": 4,
 "nbformat_minor": 5
}

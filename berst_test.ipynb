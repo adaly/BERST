{
 "cells": [
  {
   "cell_type": "code",
   "execution_count": 23,
   "id": "98f0348d-7465-47bd-94be-ce3c6e3d621b",
   "metadata": {},
   "outputs": [],
   "source": [
    "import os\n",
    "import torch\n",
    "import pandas as pd\n",
    "import scanpy as sc\n",
    "from preprocess import preprocess_scbert\n",
    "from graph_datasets import visium_anndata_to_graphdataset, GraphDataset"
   ]
  },
  {
   "cell_type": "markdown",
   "id": "08b1aef8-2ed4-49f3-a232-82fc516793d0",
   "metadata": {},
   "source": [
    "### Create test dataset of 3 Visium arrays"
   ]
  },
  {
   "cell_type": "code",
   "execution_count": 2,
   "id": "bffe17fe-664e-47be-8e26-ca091892aeeb",
   "metadata": {},
   "outputs": [],
   "source": [
    "adata = sc.read_h5ad('/Volumes/Aidan_NYGC/Visium/2024_LSC_MTC/adata_lsc_raw_counts.h5ad')\n",
    "sel_arrs = adata.obs.array.unique()[:3]\n",
    "adata = adata[adata.obs.array.isin(sel_arrs)]"
   ]
  },
  {
   "cell_type": "code",
   "execution_count": 3,
   "id": "54f9c434-7244-4673-84ca-67c8f6d0ea56",
   "metadata": {},
   "outputs": [
    {
     "name": "stderr",
     "output_type": "stream",
     "text": [
      "/Users/aidandaly/Github/BERST/preprocess.py:53: ImplicitModificationWarning: Trying to modify attribute `.var` of view, initializing view as actual.\n",
      "  adata.var[gene_symbols] = adata.var[gene_symbols].astype(str)\n"
     ]
    }
   ],
   "source": [
    "target_genes = 'data/gene2vec_names.csv'\n",
    "\n",
    "adata = preprocess_scbert(adata, target_genes=target_genes, gene_symbols='gene_symbol')"
   ]
  },
  {
   "cell_type": "code",
   "execution_count": 4,
   "id": "b97ebdc5-1247-4238-b32d-c97f92fa6292",
   "metadata": {},
   "outputs": [],
   "source": [
    "adata.write('adata_test.h5ad')"
   ]
  },
  {
   "cell_type": "markdown",
   "id": "79ce61c4-f9c7-4e8f-8957-7e6abc5c11b8",
   "metadata": {},
   "source": [
    "### Load into PyG dataset"
   ]
  },
  {
   "cell_type": "code",
   "execution_count": 9,
   "id": "1e53890c-8eff-4040-a28c-c389e759265f",
   "metadata": {},
   "outputs": [],
   "source": [
    "adata = sc.read_h5ad('adata_test.h5ad')"
   ]
  },
  {
   "cell_type": "code",
   "execution_count": 10,
   "id": "f9aa666e-fbf1-4229-86fb-853662e2f754",
   "metadata": {},
   "outputs": [],
   "source": [
    "graph_list, graph_names = visium_anndata_to_graphdataset(adata, x_col='x', y_col='y', pseudo_hex=True)\n",
    "\n",
    "gdat = GraphDataset(graph_list)"
   ]
  },
  {
   "cell_type": "code",
   "execution_count": 11,
   "id": "9fc2f691-5b80-452c-bbbd-78b6a910fe25",
   "metadata": {},
   "outputs": [
    {
     "data": {
      "text/plain": [
       "Data(x=[4880, 16906], edge_index=[2, 28718], edge_attr=[28718, 1], y=[4880], pos=[4880, 2])"
      ]
     },
     "execution_count": 11,
     "metadata": {},
     "output_type": "execute_result"
    }
   ],
   "source": [
    "gdat[0]"
   ]
  },
  {
   "cell_type": "markdown",
   "id": "0e4b1565-9044-4354-8686-968b86ee4764",
   "metadata": {},
   "source": [
    "### Instantiate graph-based cross-attention model"
   ]
  },
  {
   "cell_type": "code",
   "execution_count": 12,
   "id": "18de511e-74f8-499c-87f8-8598390bda9b",
   "metadata": {},
   "outputs": [],
   "source": [
    "from graph_attention import GraphPerformerLM"
   ]
  },
  {
   "cell_type": "code",
   "execution_count": 16,
   "id": "6ecf4a80-be3b-48f2-9c46-7d485c033e89",
   "metadata": {},
   "outputs": [],
   "source": [
    "# scBERT encoding parameters\n",
    "n_genes = 16906  # number of genes in gene2vec model\n",
    "bin_num = 5  # discrete bins for transcriptomic data (excl. \"zero\" and \"mask\")\n",
    "dim = 200    # dimension of token embeddings (e.g., gene2vec)\n",
    "depth = 6    # number of attention layers\n",
    "heads = 10   # number of attention heads per layer"
   ]
  },
  {
   "cell_type": "code",
   "execution_count": 24,
   "id": "76be6218-c900-4018-b0c3-3208bd10fe53",
   "metadata": {},
   "outputs": [],
   "source": [
    "class BERST(GraphPerformerLM):\n",
    "    def __init__(\n",
    "        self, \n",
    "        n_genes=16906,\n",
    "        bin_num=5,\n",
    "        dim=200,\n",
    "        depth=6,\n",
    "        heads=10,\n",
    "        dim_head=64,\n",
    "        g2v_position_emb=True\n",
    "    ):\n",
    "        super(BERST, self).__init__(num_tokens=bin_num+2, max_seq_len=n_genes+1, \n",
    "                                    dim=dim, depth=depth, heads=heads, dim_head=dim_head, \n",
    "                                    g2v_position_emb=g2v_position_emb)\n",
    "        self.bin_num = bin_num\n",
    "\n",
    "    def forward(self, x, edge_index, return_encodings=False, output_attentions=False, **kwargs):\n",
    "        x[x > self.bin_num] = self.bin_num\n",
    "        x = x.long()\n",
    "        new_feat = torch.zeros((x.shape[0],1), dtype=torch.long)\n",
    "        x = torch.cat((x, new_feat), dim=-1)\n",
    "        \n",
    "        return super(BERST, self).forward(x, edge_index, \n",
    "                                          return_encodings=return_encodings,\n",
    "                                          output_attentions=output_attentions,\n",
    "                                          **kwargs)\n",
    "\n",
    "berst = BERST()"
   ]
  },
  {
   "cell_type": "code",
   "execution_count": null,
   "id": "58c29757-fd45-42a4-99d7-a86838a5b30a",
   "metadata": {},
   "outputs": [
    {
     "name": "stdout",
     "output_type": "stream",
     "text": [
      "tensor([[0, 0, 0,  ..., 0, 0, 0],\n",
      "        [0, 0, 0,  ..., 0, 0, 0],\n",
      "        [0, 0, 0,  ..., 0, 0, 0],\n",
      "        ...,\n",
      "        [0, 0, 0,  ..., 0, 0, 0],\n",
      "        [0, 0, 0,  ..., 0, 0, 0],\n",
      "        [0, 0, 0,  ..., 0, 0, 0]])\n"
     ]
    }
   ],
   "source": [
    "berst(gdat[0].x, gdat[0].edge_index)"
   ]
  },
  {
   "cell_type": "code",
   "execution_count": null,
   "id": "fd7047bd-f926-4d81-a224-16b0c5ee794e",
   "metadata": {},
   "outputs": [],
   "source": []
  }
 ],
 "metadata": {
  "kernelspec": {
   "display_name": "Python 3 (ipykernel)",
   "language": "python",
   "name": "python3"
  },
  "language_info": {
   "codemirror_mode": {
    "name": "ipython",
    "version": 3
   },
   "file_extension": ".py",
   "mimetype": "text/x-python",
   "name": "python",
   "nbconvert_exporter": "python",
   "pygments_lexer": "ipython3",
   "version": "3.10.14"
  }
 },
 "nbformat": 4,
 "nbformat_minor": 5
}
